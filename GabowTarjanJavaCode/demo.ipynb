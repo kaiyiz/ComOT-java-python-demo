{
 "cells": [
  {
   "cell_type": "code",
   "execution_count": 1,
   "metadata": {},
   "outputs": [
    {
     "data": {
      "text/plain": [
       "device(type='cpu')"
      ]
     },
     "execution_count": 1,
     "metadata": {},
     "output_type": "execute_result"
    }
   ],
   "source": [
    "import torch\n",
    "import numpy as np\n",
    "import matplotlib.pyplot as plt\n",
    "\n",
    "from torchvision import datasets\n",
    "from torchvision.transforms import ToTensor\n",
    "from scipy.spatial.distance import pdist, squareform, cdist\n",
    "from sklearn.preprocessing import normalize\n",
    "\n",
    "# Device configuration\n",
    "device = torch.device('cuda' if torch.cuda.is_available() else 'cpu')\n",
    "device"
   ]
  },
  {
   "cell_type": "code",
   "execution_count": 2,
   "metadata": {},
   "outputs": [],
   "source": [
    "import jpype\n",
    "import jpype.imports\n",
    "from jpype.types import *\n",
    "jpype.startJVM()"
   ]
  },
  {
   "cell_type": "code",
   "execution_count": 3,
   "metadata": {},
   "outputs": [],
   "source": [
    "# Add java class file, make sure the jar file under the 'src' floder \n",
    "jpype.addClassPath('./GTTransport/src/optimaltransport.jar')\n",
    "from optimaltransport import Mapping"
   ]
  },
  {
   "cell_type": "code",
   "execution_count": null,
   "metadata": {},
   "outputs": [],
   "source": [
    "train_data = datasets.MNIST(\n",
    "    root = 'data',\n",
    "    train = True,\n",
    "    transform = ToTensor(),\n",
    "    download = True,            \n",
    ")\n",
    "test_data = datasets.MNIST(\n",
    "    root = 'data', \n",
    "    train = False,\n",
    "    transform = ToTensor()\n",
    ")"
   ]
  },
  {
   "cell_type": "code",
   "execution_count": 5,
   "metadata": {},
   "outputs": [
    {
     "data": {
      "image/png": "[encoded data removed]",
      "text/plain": [
       "<Figure size 720x576 with 2 Axes>"
      ]
     },
     "metadata": {
      "needs_background": "light"
     },
     "output_type": "display_data"
    }
   ],
   "source": [
    "figure = plt.figure(figsize=(10, 8))\n",
    "figure.add_subplot(1, 2, 1)\n",
    "plt.imshow(train_data.data[0], cmap='gray')\n",
    "plt.title('%i' % train_data.targets[0])\n",
    "figure.add_subplot(1, 2, 2)\n",
    "plt.imshow(train_data.data[1], cmap='gray')\n",
    "plt.title('%i' % train_data.targets[1])\n",
    "plt.show()"
   ]
  },
  {
   "cell_type": "code",
   "execution_count": 6,
   "metadata": {},
   "outputs": [],
   "source": [
    "def computeDistanceMatrixGrid(size):\n",
    "    size = train_data[0][0][0].size()\n",
    "    A = np.zeros([size[0]*size[1],2])\n",
    "    itr = 0\n",
    "    for i in range(size[0]):\n",
    "        for j in range(size[1]):\n",
    "            itr = itr + 1\n",
    "            A[itr-1, 0] = i+1\n",
    "            A[itr-1, 1] = j+1\n",
    "    M = cdist(A,A,metric='sqeuclidean')\n",
    "    return M"
   ]
  },
  {
   "cell_type": "code",
   "execution_count": 7,
   "metadata": {},
   "outputs": [],
   "source": [
    "# normailize the input cost matrix by max value\n",
    "image1 = train_data[0][0][0]\n",
    "image2 = train_data[1][0][0]\n",
    "C = computeDistanceMatrixGrid(image1.size())\n",
    "C = C/np.max(C)"
   ]
  },
  {
   "cell_type": "code",
   "execution_count": 8,
   "metadata": {},
   "outputs": [],
   "source": [
    "# normailize the input demand/supply by sum value\n",
    "image1 = image1.flatten()\n",
    "image2 = image2.flatten()\n",
    "image1 = image1 / torch.sum(image1)\n",
    "image2 = image2 / torch.sum(image2)\n",
    "image1[image1==0] = 0.000001\n",
    "image1[image1==0] = 0.000001\n",
    "image1 = image1 / torch.sum(image1)\n",
    "image2 = image2 / torch.sum(image2)"
   ]
  },
  {
   "cell_type": "code",
   "execution_count": 9,
   "metadata": {},
   "outputs": [],
   "source": [
    "deltas = [0.1, 0.01, 0.001]\n",
    "n = image1.size(0)"
   ]
  },
  {
   "cell_type": "code",
   "execution_count": 10,
   "metadata": {},
   "outputs": [],
   "source": [
    "# Construct Mapping object and calculate OT\n",
    "gtSolver = Mapping(n, np.float64(image1.numpy()), np.float64(image2.numpy()), C, deltas[1])"
   ]
  },
  {
   "cell_type": "code",
   "execution_count": 15,
   "metadata": {},
   "outputs": [],
   "source": [
    "# Call methods in Mapping class\n",
    "flow = np.array(gtSolver.getFlow());\n",
    "total_cost_transport = gtSolver.getTotalCost();\n",
    "iterationCountTransport = gtSolver.getIterations();\n",
    "APLengths = gtSolver.getAPLengths();\n",
    "augmentTime = gtSolver.getTimeTakenAugment();\n",
    "APinfo = np.array(gtSolver.getAPinfo());\n",
    "inter_flow_step = gtSolver.getStopStep();\n",
    "dual = np.array(gtSolver.getDual());"
   ]
  },
  {
   "cell_type": "code",
   "execution_count": 33,
   "metadata": {},
   "outputs": [],
   "source": [
    "flow_log = np.array(gtSolver.getFlowLog(5))"
   ]
  }
 ],
 "metadata": {
  "kernelspec": {
   "display_name": "Python 3",
   "language": "python",
   "name": "python3"
  },
  "language_info": {
   "codemirror_mode": {
    "name": "ipython",
    "version": 3
   },
   "file_extension": ".py",
   "mimetype": "text/x-python",
   "name": "python",
   "nbconvert_exporter": "python",
   "pygments_lexer": "ipython3",
   "version": "3.6.13"
  }
 },
 "nbformat": 4,
 "nbformat_minor": 2
}
